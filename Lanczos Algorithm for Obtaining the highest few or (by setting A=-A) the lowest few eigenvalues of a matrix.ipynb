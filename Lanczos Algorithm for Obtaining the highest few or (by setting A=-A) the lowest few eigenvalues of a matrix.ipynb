{
 "cells": [
  {
   "cell_type": "code",
   "execution_count": 1,
   "metadata": {},
   "outputs": [],
   "source": [
    "## Imports\n",
    "\n",
    "import numpy as np\n",
    "from scipy.linalg import eigh_tridiagonal"
   ]
  },
  {
   "cell_type": "code",
   "execution_count": null,
   "metadata": {},
   "outputs": [],
   "source": [
    "## Either you can define your matrix (define as A) or make a random one\n"
   ]
  },
  {
   "cell_type": "code",
   "execution_count": 19,
   "metadata": {},
   "outputs": [],
   "source": [
    "#Random matrix generation; don't run this cell if making your own\n",
    "\n",
    "\n",
    "dim = 8\n",
    "A_random = np.array([np.random.rand() for i in range(64)]).reshape(dim,dim)\n",
    "A = (A_random + A_random.T)/2 #Symmetrise A"
   ]
  },
  {
   "cell_type": "code",
   "execution_count": 20,
   "metadata": {},
   "outputs": [],
   "source": [
    "#For comparison with truncated eigenvalues\n",
    "#Don't run this cell if you don't want to compare and just want the truncated eigenvalues\n",
    "\n",
    "evals, evecs = np.linalg.eig(A)\n",
    "evals = evals[evals.argsort()[::-1]]\n",
    "evecs = evecs[:,evals.argsort()[::-1]] "
   ]
  },
  {
   "cell_type": "code",
   "execution_count": 21,
   "metadata": {},
   "outputs": [],
   "source": [
    "#Lanczos Scheme\n",
    "\n",
    "\n",
    "#function definitions\n",
    "def x_jfunc(A,v_j,b_j,v_jprev):\n",
    "    return np.dot(A,v_j) - b_j*v_jprev\n",
    "\n",
    "def alp_jfunc(x_j,v_j):\n",
    "    return np.dot(x_j,v_j)\n",
    "\n",
    "def w_jfunc(x_j,alp_j,v_j):\n",
    "    return x_j - alp_j*v_j\n",
    "\n",
    "def b_jnextfunc(w_j):\n",
    "    return np.linalg.norm(w_j)\n",
    "\n",
    "def v_jnextfunc(w_j,b_jnext):\n",
    "    return (1/b_jnext)*w_j\n",
    "\n",
    "\n",
    "\n",
    "## Initial conditions\n",
    "\n",
    "v_1unnormalised = np.array([np.random.rand() for i in range(A.shape[0])])\n",
    "v_1 = v_1unnormalised/np.linalg.norm(v_1unnormalised)\n",
    "v_0 = np.array([0]*A.shape[0])\n",
    "b_1 = 0\n",
    "\n",
    "\n",
    "## Initial lists\n",
    "\n",
    "vlist = [v_0,v_1]\n",
    "blist = [0,b_1]\n",
    "alist = [0]\n",
    "xlist = [0]\n",
    "wlist = [0]\n",
    "\n",
    "\n",
    "#Generate all the relevant lists with a for loop\n",
    "for i in range(A.shape[0]):    \n",
    "    \n",
    "    v_j = vlist[-1]\n",
    "    b_j = blist[-1]\n",
    "    v_jprev = vlist[-2]\n",
    "    \n",
    "    \n",
    "    \n",
    "    \n",
    "    x_j = x_jfunc(A,v_j,b_j,v_jprev)\n",
    "    xlist.append(x_j)\n",
    "    \n",
    "    a_j = alp_jfunc(x_j,v_j)\n",
    "    alist.append(a_j)\n",
    "    \n",
    "    w_j = w_jfunc(x_j,a_j,v_j)\n",
    "    wlist.append(w_j)\n",
    "    \n",
    "    b_jnext = b_jnextfunc(w_j)\n",
    "    blist.append(b_jnext)\n",
    "    \n",
    "    v_jnext = w_j/b_jnext\n",
    "    vlist.append(v_jnext)\n",
    "    \n",
    "\n",
    "    \n"
   ]
  },
  {
   "cell_type": "code",
   "execution_count": 22,
   "metadata": {},
   "outputs": [],
   "source": [
    "def Tn_generator(alist, blist,n):\n",
    "    \n",
    "    ## Returns the truncated tridiagonalised matrix, which is easy to\n",
    "    ## diagonalise and will have eigenvalues close to A\n",
    "    \n",
    "    ## not relevant if you just want the eigenvalues\n",
    "    \n",
    "    diag_array = alist[1:n+1]\n",
    "    Tn = np.diag(diag_array)\n",
    "    \n",
    "    offdiag_array = blist[2:n+1]\n",
    "    \n",
    "    for i in range(n-1):\n",
    "        Tn[i,i+1] = offdiag_array[i]\n",
    "        Tn[i+1,i] = offdiag_array[i]\n",
    "    \n",
    "    \n",
    "    \n",
    "    return Tn"
   ]
  },
  {
   "cell_type": "code",
   "execution_count": 25,
   "metadata": {},
   "outputs": [],
   "source": [
    "#Generate the eigenvalues for the nth truncated matrix (n<N)\n",
    "\n",
    "def eigensolve(n):\n",
    "    diag_array = alist[1:n+1]\n",
    "    offdiag_array = blist[2:n+1]\n",
    "    \n",
    "    evals, evecs = eigh_tridiagonal(diag_array,offdiag_array)\n",
    "    \n",
    "    idx = evals.argsort()[::-1]\n",
    "    \n",
    "    evals = evals[idx]\n",
    "    evecs = evecs[:,idx]\n",
    "    \n",
    "    return evals"
   ]
  },
  {
   "cell_type": "code",
   "execution_count": 26,
   "metadata": {},
   "outputs": [
    {
     "data": {
      "text/plain": [
       "array([ True,  True,  True,  True,  True,  True,  True,  True])"
      ]
     },
     "execution_count": 26,
     "metadata": {},
     "output_type": "execute_result"
    }
   ],
   "source": [
    "np.round(eigensolve(8),4) == np.round(evals,4)"
   ]
  },
  {
   "cell_type": "code",
   "execution_count": 27,
   "metadata": {},
   "outputs": [
    {
     "data": {
      "text/plain": [
       "array([ 3.95986125,  0.71977384,  0.52521887,  0.26678078, -0.11501493,\n",
       "       -0.30501568, -0.60618781, -0.87940034])"
      ]
     },
     "execution_count": 27,
     "metadata": {},
     "output_type": "execute_result"
    }
   ],
   "source": [
    "evals"
   ]
  },
  {
   "cell_type": "code",
   "execution_count": 28,
   "metadata": {},
   "outputs": [
    {
     "data": {
      "text/plain": [
       "array([ 3.95986125,  0.71977384,  0.52521887,  0.26678078, -0.11501493,\n",
       "       -0.30501568, -0.60618781, -0.87940034])"
      ]
     },
     "execution_count": 28,
     "metadata": {},
     "output_type": "execute_result"
    }
   ],
   "source": [
    "eigensolve(8)"
   ]
  },
  {
   "cell_type": "code",
   "execution_count": 29,
   "metadata": {},
   "outputs": [
    {
     "data": {
      "text/plain": [
       "array([ 3.95986125,  0.71444033,  0.44040399,  0.11751439, -0.26890257,\n",
       "       -0.57396834, -0.87595138])"
      ]
     },
     "execution_count": 29,
     "metadata": {},
     "output_type": "execute_result"
    }
   ],
   "source": [
    "eigensolve(7)"
   ]
  },
  {
   "cell_type": "code",
   "execution_count": 30,
   "metadata": {},
   "outputs": [
    {
     "data": {
      "text/plain": [
       "array([ 3.95986125,  0.70328858,  0.33448057, -0.20545216, -0.4664136 ,\n",
       "       -0.85823988])"
      ]
     },
     "execution_count": 30,
     "metadata": {},
     "output_type": "execute_result"
    }
   ],
   "source": [
    "eigensolve(6)"
   ]
  },
  {
   "cell_type": "code",
   "execution_count": 31,
   "metadata": {},
   "outputs": [
    {
     "data": {
      "text/plain": [
       "array([ 3.95986123,  0.6741041 ,  0.17107337, -0.31196847, -0.809619  ])"
      ]
     },
     "execution_count": 31,
     "metadata": {},
     "output_type": "execute_result"
    }
   ],
   "source": [
    "eigensolve(5)"
   ]
  },
  {
   "cell_type": "code",
   "execution_count": 32,
   "metadata": {},
   "outputs": [
    {
     "data": {
      "text/plain": [
       "array([ 3.95985916,  0.59383998, -0.2017832 , -0.6816505 ])"
      ]
     },
     "execution_count": 32,
     "metadata": {},
     "output_type": "execute_result"
    }
   ],
   "source": [
    "eigensolve(4)"
   ]
  },
  {
   "cell_type": "code",
   "execution_count": 33,
   "metadata": {},
   "outputs": [
    {
     "data": {
      "text/plain": [
       "array([ 3.95968226,  0.36564521, -0.40556967])"
      ]
     },
     "execution_count": 33,
     "metadata": {},
     "output_type": "execute_result"
    }
   ],
   "source": [
    "eigensolve(3)"
   ]
  },
  {
   "cell_type": "code",
   "execution_count": 34,
   "metadata": {},
   "outputs": [
    {
     "data": {
      "text/plain": [
       "array([ 3.94854658, -0.17961156])"
      ]
     },
     "execution_count": 34,
     "metadata": {},
     "output_type": "execute_result"
    }
   ],
   "source": [
    "eigensolve(2)"
   ]
  },
  {
   "cell_type": "code",
   "execution_count": 35,
   "metadata": {},
   "outputs": [
    {
     "data": {
      "text/plain": [
       "array([2.89963131])"
      ]
     },
     "execution_count": 35,
     "metadata": {},
     "output_type": "execute_result"
    }
   ],
   "source": [
    "eigensolve(1)"
   ]
  },
  {
   "cell_type": "code",
   "execution_count": null,
   "metadata": {},
   "outputs": [],
   "source": []
  }
 ],
 "metadata": {
  "kernelspec": {
   "display_name": "Python 3",
   "language": "python",
   "name": "python3"
  },
  "language_info": {
   "codemirror_mode": {
    "name": "ipython",
    "version": 3
   },
   "file_extension": ".py",
   "mimetype": "text/x-python",
   "name": "python",
   "nbconvert_exporter": "python",
   "pygments_lexer": "ipython3",
   "version": "3.6.5"
  }
 },
 "nbformat": 4,
 "nbformat_minor": 2
}
